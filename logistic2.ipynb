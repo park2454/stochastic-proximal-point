{
 "cells": [
  {
   "cell_type": "code",
   "execution_count": 1,
   "metadata": {
    "collapsed": true
   },
   "outputs": [],
   "source": [
    "# libraries\n",
    "\n",
    "using LinearAlgebra\n",
    "using Random\n",
    "using RandomMatrices\n",
    "using StatsBase\n",
    "using Statistics\n",
    "using ProximalOperators\n",
    "using Plots"
   ]
  },
  {
   "cell_type": "code",
   "execution_count": 2,
   "metadata": {},
   "outputs": [
    {
     "data": {
      "text/plain": [
       "matrix_gen (generic function with 1 method)"
      ]
     },
     "execution_count": 2,
     "metadata": {},
     "output_type": "execute_result"
    }
   ],
   "source": [
    "# sample generation\n",
    "\n",
    "function matrix_gen(\n",
    "    m  :: Int,\n",
    "    n  :: Int,\n",
    "    p :: Real, # noise?\n",
    "    κ :: Real  # condition number\n",
    "    )\n",
    "    # generate b_i = sign(<a_i, u^\\star>) where cond(A) = κ\n",
    "\n",
    "    u_opt = randn(n)\n",
    "\n",
    "    A = Matrix(undef, m, n)\n",
    "    \n",
    "    b1 = zeros(m); b2 = zeros(m)\n",
    "    \n",
    "    wv = aweights([p, 1-p])\n",
    "    \n",
    "    for i = 1:m\n",
    "        \n",
    "        Ai = randn(n)\n",
    "        \n",
    "        A[i,:] = Ai\n",
    "        \n",
    "        bi = sign(Ai'u_opt)\n",
    "        \n",
    "        b1[i] = bi\n",
    "        \n",
    "        b2[i] = sample([-1, 1], wv) * bi\n",
    "        \n",
    "    end\n",
    "    \n",
    "    return A, b1, b2, u_opt\n",
    "    \n",
    "end"
   ]
  },
  {
   "cell_type": "code",
   "execution_count": 3,
   "metadata": {},
   "outputs": [
    {
     "data": {
      "text/plain": [
       "0.6"
      ]
     },
     "execution_count": 3,
     "metadata": {},
     "output_type": "execute_result"
    }
   ],
   "source": [
    "# Generate data, define the objective function, and set parameters\n",
    "\n",
    "Random.seed!(304)\n",
    "\n",
    "# without/with noise & condition number 1\n",
    "X, y, y2, x = matrix_gen(1000, 40, 0.01, 15)\n",
    "\n",
    "m, n = size(X)\n",
    "\n",
    "# the objective function\n",
    "function F(θ)\n",
    "    sum(log.(1 .+ exp.(-y .* (X*θ)))) / m\n",
    "end\n",
    "\n",
    "function F2(θ)\n",
    "    sum(log.(1 .+ exp.(-y2 .* (X*θ)))) / m\n",
    "end\n",
    "\n",
    "# optimal value\n",
    "Fstar = F(x)\n",
    "Fstar2 = F2(x)\n",
    "\n",
    "# parameter setting\n",
    "T = 100 # # of experiments\n",
    "K = 1e3 # total iterations\n",
    "γinits = exp.(collect(range(log(10^(-2)), log(10^5), length = 15)))\n",
    "ϵ = 0.05 # tolerance\n",
    "ϵ_bisection = 1e-03\n",
    "β = 0.6 # exponent of step size"
   ]
  },
  {
   "cell_type": "markdown",
   "metadata": {},
   "source": [
    "# Figure 5 (a)\n",
    "\n",
    "$m = 1000, n = 40, \\kappa(A) = 15, p = 0$."
   ]
  },
  {
   "cell_type": "code",
   "execution_count": 4,
   "metadata": {},
   "outputs": [
    {
     "data": {
      "text/plain": [
       "0.11283644369415241"
      ]
     },
     "execution_count": 4,
     "metadata": {},
     "output_type": "execute_result"
    }
   ],
   "source": [
    "F(0.4x) - Fstar"
   ]
  },
  {
   "cell_type": "code",
   "execution_count": 5,
   "metadata": {},
   "outputs": [
    {
     "data": {
      "text/plain": [
       "0.11076506472118836"
      ]
     },
     "execution_count": 5,
     "metadata": {},
     "output_type": "execute_result"
    }
   ],
   "source": [
    "F2(0.3x) - Fstar2"
   ]
  },
  {
   "cell_type": "code",
   "execution_count": null,
   "metadata": {
    "collapsed": true
   },
   "outputs": [],
   "source": [
    "# experiments for SGM (Figure 5 (a))\n",
    "\n",
    "# initialization\n",
    "iterations_SGM = zeros(T, 15)\n",
    "\n",
    "# main iteration\n",
    "for i = 1:15\n",
    "    for j = 1:T\n",
    "        γinit = γinits[i]\n",
    "        θ = 0.4 * x#zeros(n)\n",
    "        for k = 1:K\n",
    "            idx = sample(1:m) # sampling\n",
    "            γ = γinit * k^(-β) # update stepsize\n",
    "            \n",
    "            # SGM update\n",
    "            yXθ = exp(-y[idx] * (X[idx,:]'θ))\n",
    "            θ = θ + (γ * (y[idx] * yXθ / (1 + yXθ))) * X[idx,:]\n",
    "            \n",
    "            if (abs(F(θ) - Fstar) <= ϵ || k >= K)\n",
    "                iterations_SGM[j, i] = k\n",
    "                break\n",
    "            end                                                                                                                                                                                                                                                                                                                                                                                                                                                                                                                                                                                                                                                                                                                                                                                                                                                                                                                                                                                                                                                                                                                                                                                                                                                                                                                                                                                                                                                                                                                                                                                                                                                                                                                                                                                                                                                                                                                                                                                                                                                                                                                                                                                                                                                                                                                                                                                                                                                                                                                                                                                                                                                                                                                                                                                                                                                                                                                                                                                                                                                                                                                                                                                                                                                                                                                                                                                                                                                                                                                                                                                                                                                                                                                                                                                                                                                                                                                                                                                                                                                                                                                                                                                                                                                                                                                                                                                                                                                                                                                                                                                                                                                                                                                                                                                                                                                                                                                                                                                                                                                                                                                                                                                                                                                                                                                                                                                                                                                                                                                                                                                                                                                                                                                                                                                                                                                                                                                                                                                                                                                                                                                                                                                                                                                                                                                                                                                                                                                                                                                                                                                                                                                                                                                                                                                                                                                                                                                                                                                                                                                                                                                                                                                                                                                                                                                                                                                                                                                                                                                                                                                                                                                                                                                                                                                                                                                                                                                                                                                                                                                                                                                                                                                                                                                                                                                                                                                                                                                                                                                                                                                                                                                                                                                                                                                                                                                                                                                                                                                                                                                                                                                                                                                                                                                                                                                                                                                                                                                                                                                                                                                                                                                                                                                                                                                                                                                                                                                                                                                                                                                                                                                                                                                                                                                                                                                                                                                                                                                                                                                                                                                                                                                                                                                                                                                                                                                                                                                                                                                                                                                                                                                                                                                                                                                                                                                                                                                                                                                                                                                                                                                                                                                                                                                                                                                                                                                                                                                                                                                                                                                                                                                                                                                                                                                                                                                                                                                                                                                                                                                                                                                                                                                                                                                                                                                                                                                                                                                                                                                                                                                                                                                                                                                                                                                                 \n",
    "        end\n",
    "    end\n",
    "end"
   ]
  },
  {
   "cell_type": "code",
   "execution_count": null,
   "metadata": {},
   "outputs": [],
   "source": [
    "sgm_iters = [[quantile(iterations_SGM[:,i], 0.05) for i = 1:15] median(iterations_SGM, dims = 1)' [quantile(iterations_SGM[:,i], 0.95) for i = 1:15]]"
   ]
  },
  {
   "cell_type": "code",
   "execution_count": null,
   "metadata": {},
   "outputs": [],
   "source": [
    "# experiments for the truncated model (Figure 5 (a))\n",
    "\n",
    "# initialization\n",
    "iterations_truncated = zeros(T, 15)\n",
    "\n",
    "# main iteration\n",
    "for i = 1:15\n",
    "    for j = 1:T\n",
    "        γinit = γinits[i]\n",
    "        θ = 0.4 * x\n",
    "        for k = 1:K\n",
    "            idx = sample(1:m) # sampling\n",
    "            γ = γinit * k^(-β) # update stepsize\n",
    "            \n",
    "            # Update for the truncated model\n",
    "            yXθ = exp(-y[idx] * (X[idx,:]'θ))\n",
    "            ∇f = (-y[idx] * yXθ / (1 + yXθ)) * X[idx,:]\n",
    "            θ = θ -  min(γ, log(1 + yXθ)/norm(∇f)^2)*∇f\n",
    "            \n",
    "            if (abs(F(θ) - Fstar) <= ϵ || k >= K)\n",
    "                iterations_truncated[j, i] = k\n",
    "                break\n",
    "            end\n",
    "        end\n",
    "    end\n",
    "end"
   ]
  },
  {
   "cell_type": "code",
   "execution_count": null,
   "metadata": {},
   "outputs": [],
   "source": [
    "trunc_iters = [[quantile(iterations_truncated[:,i], 0.05) for i = 1:15] median(iterations_truncated, dims = 1)' [quantile(iterations_truncated[:,i], 0.95) for i = 1:15]]"
   ]
  },
  {
   "cell_type": "code",
   "execution_count": null,
   "metadata": {},
   "outputs": [],
   "source": [
    "# experiments for the proximal model (Figure 5 (a))\n",
    "\n",
    "function f(x, xk, a, b, α)\n",
    "    return log(1 + exp(-b * (a'x))) + norm(x - xk)^2 / 2 / α\n",
    "end\n",
    "\n",
    "# initialization\n",
    "iterations_proximal = zeros(T, 15)\n",
    "\n",
    "# main iteration\n",
    "for i = 1:15\n",
    "    for j = 1:T\n",
    "        #println(\"start i = \", i, \" and j = \", j)\n",
    "        γinit = γinits[i]\n",
    "        θ = 0.4 * x\n",
    "        for k = 1:K\n",
    "            idx = sample(1:m) # sampling\n",
    "            γ = γinit * k^(-β) # update stepsize\n",
    "            \n",
    "            Xidx = X[idx,:]; yidx = y[idx]\n",
    "            \n",
    "            # Update for the proximal model\n",
    "            yXθ = exp(-yidx * (Xidx'θ))\n",
    "            Δx = (γ * (yidx * yXθ / (1 + yXθ))) * Xidx\n",
    "            \n",
    "            searchs = [f(θ + l/1000 * Δx, θ, Xidx, yidx, γ) for l = 1:1000]\n",
    "            \n",
    "            θ = θ + (findmin(searchs)[2])/1000 * Δx\n",
    "            \n",
    "            if (abs(F(θ) - Fstar) <= ϵ || k >= K)\n",
    "                iterations_proximal[j, i] = k\n",
    "                break\n",
    "            end\n",
    "        end\n",
    "    end\n",
    "end"
   ]
  },
  {
   "cell_type": "code",
   "execution_count": null,
   "metadata": {},
   "outputs": [],
   "source": [
    "prox_iters = [[quantile(iterations_proximal[:,i], 0.05) for i = 1:15] median(iterations_proximal, dims = 1)' [quantile(iterations_proximal[:,i], 0.95) for i = 1:15]]"
   ]
  },
  {
   "cell_type": "code",
   "execution_count": null,
   "metadata": {
    "collapsed": true
   },
   "outputs": [],
   "source": [
    "# experiments for the bundle model (Figure 5 (a))\n",
    "\n",
    "# initialization\n",
    "iterations_bundle = zeros(T, 15)\n",
    "\n",
    "# main iteration\n",
    "for i = 1:15\n",
    "    for j = 1:T\n",
    "        γinit = γinits[i]\n",
    "        θ = 0.4 * x\n",
    "        for k = 1:K\n",
    "            idx = sample(1:m) # sampling\n",
    "            γ = γinit * k^(-β) # update stepsize\n",
    "            \n",
    "            # Update for the bundle model\n",
    "            yXθ = exp(-y[idx] * (X[idx,:]'θ))\n",
    "            ∇fθ = (-y[idx] * yXθ / (1 + yXθ)) * X[idx,:]\n",
    "            fθ = log(1 + yXθ)\n",
    "            θy = θ - γ*∇fθ\n",
    "            \n",
    "            yXθy = exp(-y[idx] * (X[idx,:]'θy))\n",
    "            ∇fθy = (-y[idx] * yXθy / (1 + yXθy)) * X[idx,:]\n",
    "            fθy = log(1 + yXθy)\n",
    "            θ̄ = θ - γ*∇fθy\n",
    "            if fθ + ∇fθ'*(θ̄-θ) <= fθy + ∇fθy'*(θ̄-θy)\n",
    "                θ = θ̄\n",
    "            else\n",
    "                λ = (fθy-fθ+γ*norm(∇fθ)^2)/(γ*norm(∇fθy-∇fθ)^2)\n",
    "                θ -= γ*( (1-λ)*∇fθ + λ*∇fθy  )\n",
    "            end\n",
    "            \n",
    "            if (abs(F(θ) - Fstar) <= ϵ || k >= K)\n",
    "                iterations_bundle[j, i] = k\n",
    "                break\n",
    "            end\n",
    "        end\n",
    "    end\n",
    "end"
   ]
  },
  {
   "cell_type": "code",
   "execution_count": null,
   "metadata": {
    "collapsed": true
   },
   "outputs": [],
   "source": [
    "bund_iters = [[quantile(iterations_bundle[:,i], 0.05) for i = 1:15] median(iterations_bundle, dims = 1)' [quantile(iterations_bundle[:,i], 0.95) for i = 1:15]]"
   ]
  },
  {
   "cell_type": "code",
   "execution_count": null,
   "metadata": {
    "collapsed": true
   },
   "outputs": [],
   "source": [
    "plt = plot(γinits, [sgm_iters[:,2] trunc_iters[:, 2] prox_iters[:, 2] bund_iters[:, 2]], \n",
    "    legend = :left,\n",
    "    xscale = :log10,\n",
    "    xlab = \"Initial Step Size\",\n",
    "    ylab = \"Time to accuracy, eps=0.05\",\n",
    "    title = \"Figure 5. (a)\",\n",
    "    label = [\"SGM\" \"Truncated\" \"Proximal\" \"bundle\"],\n",
    "    color = [:red :green :blue :black],\n",
    "    markershape = [:dtriangle :circle :square :diamond])\n",
    "a = Shape([γinits; γinits],\n",
    "    [sgm_iters[:,1]; sgm_iters[:,3]])\n",
    "plot!(a, fillalpha = 0.2, linecolor = nothing, fillcolor = :red, label = \"\")\n",
    "b = Shape([γinits; γinits[end:-1:2]],\n",
    "    [trunc_iters[:,1]; trunc_iters[end:-1:2,3]])\n",
    "plot!(b, fillalpha = 0.2, linecolor = nothing, fillcolor = :green, label = \"\")\n",
    "c = Shape([γinits; γinits[end:-1:2]],\n",
    "    [prox_iters[:,1]; prox_iters[end:-1:2,3]])\n",
    "plot!(c, fillalpha = 0.2, linecolor = nothing, fillcolor = :blue, label = \"\")\n",
    "d = Shape([γinits; γinits[end-1:-1:2]],\n",
    "    [bund_iters[:,1]; bund_iters[end-1:-1:2,3]])\n",
    "plot!(d, fillalpha = 0.2, linecolor = nothing, fillcolor = :black, label = \"\")"
   ]
  },
  {
   "cell_type": "markdown",
   "metadata": {
    "collapsed": true
   },
   "source": [
    "# Figure 5 (b)\n",
    "\n",
    "$m = 1000, n = 40, \\kappa(A) = 15, p = 0.01$."
   ]
  },
  {
   "cell_type": "code",
   "execution_count": null,
   "metadata": {
    "collapsed": true
   },
   "outputs": [],
   "source": [
    "# experiments for SGM (Figure 5 (b))\n",
    "\n",
    "# initialization\n",
    "iterations_SGM = zeros(T, 15)\n",
    "\n",
    "# main iteration\n",
    "for i = 1:15\n",
    "    for j = 1:T\n",
    "        γinit = γinits[i]\n",
    "        θ = 0.3 * x#zeros(n)\n",
    "        for k = 1:K\n",
    "            idx = sample(1:m) # sampling\n",
    "            γ = γinit * k^(-β) # update stepsize\n",
    "            \n",
    "            # SGM update\n",
    "            yXθ = exp(-y2[idx] * (X[idx,:]'θ))\n",
    "            θ = θ + (γ * (y2[idx] * yXθ / (1 + yXθ))) * X[idx,:]\n",
    "            \n",
    "            if (abs(F2(θ) - Fstar2) <= ϵ || k >= K)\n",
    "                #println(F2(θ))\n",
    "                iterations_SGM[j, i] = k\n",
    "                break\n",
    "            end                                                                                                                                                                                                                                                                                                                                                                                                                                                                                                                                                                                                                                                                                                                                                                                                                                                                                                                                                                                                                                                                                                                                                                                                                                                                                                                                                                                                                                                                                                                                                                                                                                                                                                                                                                                                                                                                                                                                                                                                                                                                                                                                                                                                                                                                                                                                                                                                                                                                                                                                                                                                                                                                                                                                                                                                                                                                                                                                                                                                                                                                                                                                                                                                                                                                                                                                                                                                                                                                                                                                                                                                                                                                                                                                                                                                                                                                                                                                                                                                                                                                                                                                                                                                                                                                                                                                                                                                                                                                                                                                                                                                                                                                                                                                                                                                                                                                                                                                                                                                                                                                                                                                                                                                                                                                                                                                                                                                                                                                                                                                                                                                                                                                                                                                                                                                                                                                                                                                                                                                                                                                                                                                                                                                                                                                                                                                                                                                                                                                                                                                                                                                                                                                                                                                                                                                                                                                                                                                                                                                                                                                                                                                                                                                                                                                                                                                                                                                                                                                                                                                                                                                                                                                                                                                                                                                                                                                                                                                                                                                                                                                                                                                                                                                                                                                                                                                                                                                                                                                                                                                                                                                                                                                                                                                                                                                                                                                                                                                                                                                                                                                                                                                                                                                                                                                                                                                                                                                                                                                                                                                                                                                                                                                                                                                                                                                                                                                                                                                                                                                                                                                                                                                                                                                                                                                                                                                                                                                                                                                                                                                                                                                                                                                                                                                                                                                                                                                                                                                                                                                                                                                                                                                                                                                                                                                                                                                                                                                                                                                                                                                                                                                                                                                                                                                                                                                                                                                                                                                                                                                                                                                                                                                                                                                                                                                                                                                                                                                                                                                                                                                                                                                                                                                                                                                                                                                                                                                                                                                                                                                                                                                                                                                                                                                                                                                 \n",
    "        end\n",
    "    end\n",
    "end"
   ]
  },
  {
   "cell_type": "code",
   "execution_count": null,
   "metadata": {
    "collapsed": true
   },
   "outputs": [],
   "source": [
    "sgm_iters = [[quantile(iterations_SGM[:,i], 0.05) for i = 1:15] median(iterations_SGM, dims = 1)' [quantile(iterations_SGM[:,i], 0.95) for i = 1:15]]"
   ]
  },
  {
   "cell_type": "code",
   "execution_count": null,
   "metadata": {
    "collapsed": true
   },
   "outputs": [],
   "source": [
    "# experiments for the truncated model (Figure 5 (b))\n",
    "\n",
    "# initialization\n",
    "iterations_truncated = zeros(T, 15)\n",
    "\n",
    "# main iteration\n",
    "for i = 1:15\n",
    "    for j = 1:T\n",
    "        γinit = γinits[i]\n",
    "        θ = 0.3 * x\n",
    "        for k = 1:K\n",
    "            idx = sample(1:m) # sampling\n",
    "            γ = γinit * k^(-β) # update stepsize\n",
    "            \n",
    "            # Update for the truncated model\n",
    "            yXθ = exp(-y2[idx] * (X[idx,:]'θ))\n",
    "            ∇f = (-y2[idx] * yXθ / (1 + yXθ)) * X[idx,:]\n",
    "            θ = θ -  min(γ, log(1 + yXθ)/norm(∇f)^2)*∇f\n",
    "            \n",
    "            if (abs(F2(θ) - Fstar2) <= ϵ || k >= K)\n",
    "                #println(F2(θ))\n",
    "                iterations_truncated[j, i] = k\n",
    "                break\n",
    "            end\n",
    "        end\n",
    "    end\n",
    "end"
   ]
  },
  {
   "cell_type": "code",
   "execution_count": null,
   "metadata": {
    "collapsed": true
   },
   "outputs": [],
   "source": [
    "trunc_iters = [[quantile(iterations_truncated[:,i], 0.05) for i = 1:15] median(iterations_truncated, dims = 1)' [quantile(iterations_truncated[:,i], 0.95) for i = 1:15]]"
   ]
  },
  {
   "cell_type": "code",
   "execution_count": null,
   "metadata": {
    "collapsed": true
   },
   "outputs": [],
   "source": [
    "# experiments for the proximal model (Figure 5 (b))\n",
    "\n",
    "function f(x, xk, a, b, α)\n",
    "    return log(1 + exp(-b * (a'x))) + norm(x - xk)^2 / 2 / α\n",
    "end\n",
    "\n",
    "# initialization\n",
    "iterations_proximal = zeros(T, 15)\n",
    "\n",
    "# main iteration\n",
    "for i = 1:15\n",
    "    for j = 1:T\n",
    "        #println(\"start i = \", i, \" and j = \", j)\n",
    "        γinit = γinits[i]\n",
    "        θ = 0.3 * x\n",
    "        for k = 1:K\n",
    "            idx = sample(1:m) # sampling\n",
    "            γ = γinit * k^(-β) # update stepsize\n",
    "            \n",
    "            Xidx = X[idx,:]; yidx = y2[idx]\n",
    "            \n",
    "            # Update for the proximal model\n",
    "            yXθ = exp(-yidx * (Xidx'θ))\n",
    "            Δx = (γ * (yidx * yXθ / (1 + yXθ))) * Xidx\n",
    "            \n",
    "            searchs = [f(θ + l/1000 * Δx, θ, Xidx, yidx, γ) for l = 1:1000]\n",
    "            \n",
    "            θ = θ + (findmin(searchs)[2])/1000 * Δx\n",
    "            \n",
    "            if (abs(F2(θ) - Fstar2) <= ϵ || k >= K)\n",
    "                #println(abs(F2(θ) - Fstar2))\n",
    "                iterations_proximal[j, i] = k\n",
    "                break\n",
    "            end\n",
    "        end\n",
    "    end\n",
    "end"
   ]
  },
  {
   "cell_type": "code",
   "execution_count": null,
   "metadata": {
    "collapsed": true
   },
   "outputs": [],
   "source": [
    "prox_iters = [[quantile(iterations_proximal[:,i], 0.05) for i = 1:15] median(iterations_proximal, dims = 1)' [quantile(iterations_proximal[:,i], 0.95) for i = 1:15]]"
   ]
  },
  {
   "cell_type": "code",
   "execution_count": null,
   "metadata": {
    "collapsed": true
   },
   "outputs": [],
   "source": [
    "# experiments for the bundle model (Figure 5 (b))\n",
    "\n",
    "# initialization\n",
    "iterations_bundle = zeros(T, 15)\n",
    "\n",
    "# main iteration\n",
    "for i = 1:15\n",
    "    for j = 1:T\n",
    "        γinit = γinits[i]\n",
    "        θ = 0.3 * x\n",
    "        for k = 1:K\n",
    "            idx = sample(1:m) # sampling\n",
    "            γ = γinit * k^(-β) # update stepsize\n",
    "            \n",
    "            # Update for the bundle model\n",
    "            yXθ = exp(-y2[idx] * (X[idx,:]'θ))\n",
    "            ∇fθ = (-y2[idx] * yXθ / (1 + yXθ)) * X[idx,:]\n",
    "            fθ = log(1 + yXθ)\n",
    "            θy = θ - γ*∇fθ\n",
    "            \n",
    "            yXθy = exp(-y2[idx] * (X[idx,:]'θy))\n",
    "            ∇fθy = (-y2[idx] * yXθy / (1 + yXθy)) * X[idx,:]\n",
    "            fθy = log(1 + yXθy)\n",
    "            θ̄ = θ - γ*∇fθy\n",
    "            if fθ + ∇fθ'*(θ̄-θ) <= fθy + ∇fθy'*(θ̄-θy)\n",
    "                θ = θ̄\n",
    "            else\n",
    "                λ = (fθy-fθ+γ*norm(∇fθ)^2)/(γ*norm(∇fθy-∇fθ)^2)\n",
    "                θ -= γ*( (1-λ)*∇fθ + λ*∇fθy  )\n",
    "            end\n",
    "            \n",
    "            if (abs(F2(θ) - Fstar2) <= ϵ || k >= K)\n",
    "                #println(F2(θ))\n",
    "                iterations_bundle[j, i] = k\n",
    "                break\n",
    "            end\n",
    "        end\n",
    "    end\n",
    "end"
   ]
  },
  {
   "cell_type": "code",
   "execution_count": null,
   "metadata": {
    "collapsed": true
   },
   "outputs": [],
   "source": [
    "bund_iters = [[quantile(iterations_bundle[:,i], 0.05) for i = 1:15] median(iterations_bundle, dims = 1)' [quantile(iterations_bundle[:,i], 0.95) for i = 1:15]]"
   ]
  },
  {
   "cell_type": "code",
   "execution_count": null,
   "metadata": {
    "collapsed": true
   },
   "outputs": [],
   "source": [
    "plt = plot(γinits, [sgm_iters[:,2] trunc_iters[:, 2] prox_iters[:, 2] bund_iters[:, 2]], \n",
    "    legend = :left,\n",
    "    xscale = :log10,\n",
    "    xlab = \"Initial Step Size\",\n",
    "    ylab = \"Time to accuracy, eps=0.05\",\n",
    "    title = \"Figure 5. (b)\",\n",
    "    label = [\"SGM\" \"Truncated\" \"Proximal\" \"bundle\"],\n",
    "    color = [:red :green :blue :black],\n",
    "    markershape = [:dtriangle :circle :square :diamond])\n",
    "a = Shape([γinits; γinits],\n",
    "    [sgm_iters[:,1]; sgm_iters[:,3]])\n",
    "plot!(a, fillalpha = 0.2, linecolor = nothing, fillcolor = :red, label = \"\")\n",
    "b = Shape([γinits; γinits[end:-1:2]],\n",
    "    [trunc_iters[:,1]; trunc_iters[end:-1:2,3]])\n",
    "plot!(b, fillalpha = 0.2, linecolor = nothing, fillcolor = :green, label = \"\")\n",
    "c = Shape([γinits; γinits[end:-1:2]],\n",
    "    [prox_iters[:,1]; prox_iters[end:-1:2,3]])\n",
    "plot!(c, fillalpha = 0.2, linecolor = nothing, fillcolor = :blue, label = \"\")\n",
    "d = Shape([γinits; γinits[end-1:-1:2]],\n",
    "    [bund_iters[:,1]; bund_iters[end-1:-1:2,3]])\n",
    "plot!(d, fillalpha = 0.2, linecolor = nothing, fillcolor = :black, label = \"\")"
   ]
  },
  {
   "cell_type": "code",
   "execution_count": null,
   "metadata": {
    "collapsed": true
   },
   "outputs": [],
   "source": []
  }
 ],
 "metadata": {
  "kernelspec": {
   "display_name": "Julia 1.2.0",
   "language": "julia",
   "name": "julia-1.2"
  },
  "language_info": {
   "file_extension": ".jl",
   "mimetype": "application/julia",
   "name": "julia",
   "version": "1.2.0"
  }
 },
 "nbformat": 4,
 "nbformat_minor": 2
}
